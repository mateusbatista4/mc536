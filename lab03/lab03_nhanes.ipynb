{
  "nbformat": 4,
  "nbformat_minor": 0,
  "metadata": {
    "kernelspec": {
      "name": "python3",
      "display_name": "Python 3.9.2 64-bit"
    },
    "language_info": {
      "name": "python",
      "version": "3.9.2",
      "mimetype": "text/x-python",
      "codemirror_mode": {
        "name": "ipython",
        "version": 3
      },
      "pygments_lexer": "ipython3",
      "nbconvert_exporter": "python",
      "file_extension": ".py"
    },
    "toc": {
      "base_numbering": 1,
      "nav_menu": {},
      "number_sections": false,
      "sideBar": false,
      "skip_h1_title": false,
      "title_cell": "Table of Contents",
      "title_sidebar": "Contents",
      "toc_cell": false,
      "toc_position": {},
      "toc_section_display": false,
      "toc_window_display": false
    },
    "interpreter": {
      "hash": "da149a530ef88ab9985e042e7f0aad02a108fa2bec197869dc66def9c8e72091"
    },
    "colab": {
      "name": "lab03-nhanes.ipynb",
      "provenance": [],
      "collapsed_sections": []
    }
  },
  "cells": [
    {
      "cell_type": "markdown",
      "metadata": {
        "id": "35c5wwVPpeKs"
      },
      "source": [
        "# National Health and Nutrition Examination Survey (NHANES)\n",
        "[https://wwwn.cdc.gov/nchs/nhanes/](https://wwwn.cdc.gov/nchs/nhanes/)\n",
        "\n",
        "Este laboratório usará dados extraídos do NHANES.\n",
        "\n",
        "## NHANES datasets from 2013-2014\n",
        "\n",
        "Foram extraídos dados do [NHANES 2013-2014](https://wwwn.cdc.gov/nchs/nhanes/continuousnhanes/default.aspx?BeginYear=2013).\n",
        "\n",
        "Os dados estão disponíveis em arquivos CSV no diretório `/data/nhanes`. Lá está disponível a documentação do esquema dos arquivos."
      ]
    },
    {
      "cell_type": "markdown",
      "metadata": {
        "id": "qfnerZK-peKt"
      },
      "source": [
        "# Tarefa 1 - Esquema Relacional\n",
        "\n",
        "Analise os arquivos CSV que estão no diretório `/data/nhanes` e escreva um esquema relacional referente às tabelas, suas chaves primárias e estrangeiras (não é SQL ainda). Coloque a chave primária com dois underlines antes e dois depois:\n",
        "\n",
        "\\__teste\\__"
      ]
    },
    {
      "cell_type": "markdown",
      "metadata": {
        "id": "glpBGGdMpeKu"
      },
      "source": [
        "\n",
        "Pessoa(__Id__, Gênero, Idade)\n",
        "\n",
        "Medicamento(__Codigo__, NomeMedicamento)\n",
        "\n",
        "UsoMedicamento(__IdPessoa__, __CodMedicamento__, DiasUso)\n",
        "- CHE: IdPessoa from Pessoa\n",
        "- CHE: CodMedicamento from Medicamento\n",
        "\n"
      ]
    },
    {
      "cell_type": "markdown",
      "metadata": {
        "id": "8bFr0trNpeKu"
      },
      "source": [
        "## Criação das Tabelas em SQL e Importação de Dados\n",
        "\n",
        "Considere o seguinte exemplo em que é criada uma tabela em SQL e importado dados do arquivo CSV `demographic-person.csv`."
      ]
    },
    {
      "cell_type": "code",
      "metadata": {
        "colab": {
          "base_uri": "https://localhost:8080/"
        },
        "id": "1z0z-2HApeKu",
        "outputId": "dbd67c26-20f4-4d9e-b53a-0ed03fb0a465"
      },
      "source": [
        "%defaultDatasource jdbc:h2:mem:db"
      ],
      "execution_count": 1,
      "outputs": [
        {
          "output_type": "stream",
          "name": "stderr",
          "text": [
            "UsageError: Line magic function `%defaultDatasource` not found.\n"
          ]
        }
      ]
    },
    {
      "cell_type": "code",
      "metadata": {
        "id": "XfEC65XnpeKv",
        "outputId": "5727d014-36b4-4051-ea87-6472d36c888b"
      },
      "source": [
        "CREATE TABLE Pessoa (\n",
        "  Id VARCHAR(5) NOT NULL,\n",
        "  Gender INTEGER,\n",
        "  Age INTEGER,\n",
        "  PRIMARY KEY(Id)\n",
        ") AS SELECT\n",
        "    id,\n",
        "    gender,\n",
        "    \n",
        "    age\n",
        "FROM CSVREAD('../../../data/nhanes/demographic-person.csv');"
      ],
      "execution_count": null,
      "outputs": [
        {
          "output_type": "error",
          "ename": "SyntaxError",
          "evalue": "invalid syntax (Temp/ipykernel_8848/2206601307.py, line 1)",
          "traceback": [
            "\u001b[1;36m  File \u001b[1;32m\"C:\\Users\\mbatista\\AppData\\Local\\Temp/ipykernel_8848/2206601307.py\"\u001b[1;36m, line \u001b[1;32m1\u001b[0m\n\u001b[1;33m    CREATE TABLE Pessoa (\u001b[0m\n\u001b[1;37m           ^\u001b[0m\n\u001b[1;31mSyntaxError\u001b[0m\u001b[1;31m:\u001b[0m invalid syntax\n"
          ]
        }
      ]
    },
    {
      "cell_type": "code",
      "metadata": {
        "colab": {
          "referenced_widgets": [
            "b52f5bdd-49d6-40f6-8cdc-f8b4e18f2342"
          ]
        },
        "id": "TZojmQpDpeKv",
        "outputId": "d84642ca-8c8c-4a29-e112-cb24e5912d7e"
      },
      "source": [
        "SELECT * FROM Pessoa;"
      ],
      "execution_count": null,
      "outputs": [
        {
          "output_type": "display_data",
          "data": {
            "application/vnd.jupyter.widget-view+json": {
              "model_id": "b52f5bdd-49d6-40f6-8cdc-f8b4e18f2342",
              "version_major": 2,
              "version_minor": 0
            },
            "application/vnd.code.notebook.error": {
              "name": "Error",
              "message": "INVALID mime type: method. Must be in the format \"type/subtype[;optionalparameter]\"",
              "stack": "Error: INVALID mime type: method. Must be in the format \"type/subtype[;optionalparameter]\"\n\tat new Tt (c:\\Users\\mbatista\\AppData\\Local\\Programs\\Microsoft VS Code\\resources\\app\\out\\vs\\workbench\\services\\extensions\\node\\extensionHostProcess.js:87:55799)\n\tat Function.text (c:\\Users\\mbatista\\AppData\\Local\\Programs\\Microsoft VS Code\\resources\\app\\out\\vs\\workbench\\services\\extensions\\node\\extensionHostProcess.js:87:56450)\n\tat d (c:\\Users\\mbatista\\AppData\\Local\\Programs\\Microsoft VS Code\\resources\\app\\extensions\\ipynb\\dist\\ipynbMain.js:1:139047)\n\tat l (c:\\Users\\mbatista\\AppData\\Local\\Programs\\Microsoft VS Code\\resources\\app\\extensions\\ipynb\\dist\\ipynbMain.js:1:139713)\n\tat p (c:\\Users\\mbatista\\AppData\\Local\\Programs\\Microsoft VS Code\\resources\\app\\extensions\\ipynb\\dist\\ipynbMain.js:1:140218)\n\tat Array.map (<anonymous>)\n\tat c:\\Users\\mbatista\\AppData\\Local\\Programs\\Microsoft VS Code\\resources\\app\\extensions\\ipynb\\dist\\ipynbMain.js:1:141404\n\tat c:\\Users\\mbatista\\AppData\\Local\\Programs\\Microsoft VS Code\\resources\\app\\extensions\\ipynb\\dist\\ipynbMain.js:1:141646\n\tat c:\\Users\\mbatista\\AppData\\Local\\Programs\\Microsoft VS Code\\resources\\app\\extensions\\ipynb\\dist\\ipynbMain.js:1:141653\n\tat Array.map (<anonymous>)\n\tat e.jupyterNotebookModelToNotebookData (c:\\Users\\mbatista\\AppData\\Local\\Programs\\Microsoft VS Code\\resources\\app\\extensions\\ipynb\\dist\\ipynbMain.js:1:140962)\n\tat e.NotebookSerializer.deserializeNotebook (c:\\Users\\mbatista\\AppData\\Local\\Programs\\Microsoft VS Code\\resources\\app\\extensions\\ipynb\\dist\\ipynbMain.js:1:142865)\n\tat P.$dataToNotebook (c:\\Users\\mbatista\\AppData\\Local\\Programs\\Microsoft VS Code\\resources\\app\\out\\vs\\workbench\\services\\extensions\\node\\extensionHostProcess.js:94:214167)\n\tat i._doInvokeHandler (c:\\Users\\mbatista\\AppData\\Local\\Programs\\Microsoft VS Code\\resources\\app\\out\\vs\\workbench\\services\\extensions\\node\\extensionHostProcess.js:98:13543)\n\tat i._invokeHandler (c:\\Users\\mbatista\\AppData\\Local\\Programs\\Microsoft VS Code\\resources\\app\\out\\vs\\workbench\\services\\extensions\\node\\extensionHostProcess.js:98:13227)\n\tat i._receiveRequest (c:\\Users\\mbatista\\AppData\\Local\\Programs\\Microsoft VS Code\\resources\\app\\out\\vs\\workbench\\services\\extensions\\node\\extensionHostProcess.js:98:11838)\n\tat i._receiveOneMessage (c:\\Users\\mbatista\\AppData\\Local\\Programs\\Microsoft VS Code\\resources\\app\\out\\vs\\workbench\\services\\extensions\\node\\extensionHostProcess.js:98:10766)\n\tat c:\\Users\\mbatista\\AppData\\Local\\Programs\\Microsoft VS Code\\resources\\app\\out\\vs\\workbench\\services\\extensions\\node\\extensionHostProcess.js:98:8663\n\tat c.fire (c:\\Users\\mbatista\\AppData\\Local\\Programs\\Microsoft VS Code\\resources\\app\\out\\vs\\workbench\\services\\extensions\\node\\extensionHostProcess.js:66:1712)\n\tat l.fire (c:\\Users\\mbatista\\AppData\\Local\\Programs\\Microsoft VS Code\\resources\\app\\out\\vs\\workbench\\services\\extensions\\node\\extensionHostProcess.js:74:15781)\n\tat c:\\Users\\mbatista\\AppData\\Local\\Programs\\Microsoft VS Code\\resources\\app\\out\\vs\\workbench\\services\\extensions\\node\\extensionHostProcess.js:113:30187\n\tat c.fire (c:\\Users\\mbatista\\AppData\\Local\\Programs\\Microsoft VS Code\\resources\\app\\out\\vs\\workbench\\services\\extensions\\node\\extensionHostProcess.js:66:1712)\n\tat l.fire (c:\\Users\\mbatista\\AppData\\Local\\Programs\\Microsoft VS Code\\resources\\app\\out\\vs\\workbench\\services\\extensions\\node\\extensionHostProcess.js:74:15781)\n\tat r._receiveMessage (c:\\Users\\mbatista\\AppData\\Local\\Programs\\Microsoft VS Code\\resources\\app\\out\\vs\\workbench\\services\\extensions\\node\\extensionHostProcess.js:74:21051)\n\tat c:\\Users\\mbatista\\AppData\\Local\\Programs\\Microsoft VS Code\\resources\\app\\out\\vs\\workbench\\services\\extensions\\node\\extensionHostProcess.js:74:17929\n\tat c.fire (c:\\Users\\mbatista\\AppData\\Local\\Programs\\Microsoft VS Code\\resources\\app\\out\\vs\\workbench\\services\\extensions\\node\\extensionHostProcess.js:66:1712)\n\tat v.acceptChunk (c:\\Users\\mbatista\\AppData\\Local\\Programs\\Microsoft VS Code\\resources\\app\\out\\vs\\workbench\\services\\extensions\\node\\extensionHostProcess.js:74:13142)\n\tat c:\\Users\\mbatista\\AppData\\Local\\Programs\\Microsoft VS Code\\resources\\app\\out\\vs\\workbench\\services\\extensions\\node\\extensionHostProcess.js:74:12490\n\tat Socket.w (c:\\Users\\mbatista\\AppData\\Local\\Programs\\Microsoft VS Code\\resources\\app\\out\\vs\\workbench\\services\\extensions\\node\\extensionHostProcess.js:113:13350)\n\tat Socket.emit (events.js:315:20)\n\tat addChunk (internal/streams/readable.js:309:12)\n\tat readableAddChunk (internal/streams/readable.js:284:9)\n\tat Socket.Readable.push (internal/streams/readable.js:223:10)\n\tat Pipe.onStreamRead (internal/stream_base_commons.js:188:23)"
            }
          },
          "metadata": {}
        }
      ]
    },
    {
      "cell_type": "markdown",
      "metadata": {
        "id": "cwDPQxW5peKv"
      },
      "source": [
        "# Tarefa 2 - Criação das Tabelas em SQL e Importação de Dados\n",
        "\n",
        "Escreva instruções SQL para montar as duas tabelas restante, conforme definido no esquema relacional da **Tarefa 1**.\n",
        "\n",
        "**Importante:** não defina chave primária para a tabela de uso de medicamento.\n",
        "\n",
        "Durante a criação das tabelas, realize a importação dos dados do arquivo CSV nas tabelas criadas, conforme exemplo anterior."
      ]
    },
    {
      "cell_type": "code",
      "metadata": {
        "id": "G6RFPUIhpeKw"
      },
      "source": [
        "\n",
        "CREATE TABLE Droga (\n",
        "  Code VARCHAR(6) NOT NULL,\n",
        "  Name VARCHAR(100),\n",
        "  PRIMARY KEY(Code)\n",
        ") AS SELECT\n",
        "    Code,\n",
        "    Name\n",
        "FROM CSVREAD('../../../data/nhanes/medications-drug.csv');\n",
        "\n",
        "\n",
        "CREATE TABLE Uso (\n",
        "  Person_id VARCHAR(5) NOT NULL,\n",
        "  Drug_code VARCHAR(6) NOT NULL,\n",
        "  Days_use INTEGER , \n",
        "  FOREIGN KEY (Person_id)\n",
        "   REFERENCES Pessoa(Id)\n",
        "    ON DELETE NO ACTION\n",
        "    ON UPDATE CASCADE,\n",
        "  FOREIGN KEY (Drug_code)\n",
        "   REFERENCES Droga(Code)\n",
        "    ON DELETE NO ACTION\n",
        "    ON DELETE CASCADE\n",
        ") AS SELECT\n",
        "    Person_id,\n",
        "    Drug_code,\n",
        "    Days_use\n",
        "FROM CSVREAD('../../../data/nhanes/medications-use.csv');\n",
        "\n",
        "SELECT * from droga;\n",
        "select * from uso;"
      ],
      "execution_count": null,
      "outputs": []
    },
    {
      "cell_type": "markdown",
      "metadata": {
        "id": "KPNXHpVXpeKw"
      },
      "source": [
        "# Tarefa 3 - Consultas Simples\n",
        "\n",
        "Execute as consultas a seguir."
      ]
    },
    {
      "cell_type": "markdown",
      "metadata": {
        "id": "ub-SqjOOpeKw"
      },
      "source": [
        "a) Liste pessoas com idade acima de 60"
      ]
    },
    {
      "cell_type": "code",
      "metadata": {
        "id": "vP3JbN_BpeKx"
      },
      "source": [
        "SELECT * FROM Pessoa WHERE age > 60;"
      ],
      "execution_count": null,
      "outputs": []
    },
    {
      "cell_type": "markdown",
      "metadata": {
        "id": "qoW53mTmpeKx"
      },
      "source": [
        "b) Liste as idades das pessoas cadastradas (sem repetições)"
      ]
    },
    {
      "cell_type": "code",
      "metadata": {
        "id": "9mRT6bqrpeKx"
      },
      "source": [
        "SELECT DISTINCT age FROM Pessoa ;"
      ],
      "execution_count": null,
      "outputs": []
    },
    {
      "cell_type": "markdown",
      "metadata": {
        "id": "LM1w6YMmpeKx"
      },
      "source": [
        "c) Liste código das pessoas, idade, código dos medicamentos que usaram e dias de uso"
      ]
    },
    {
      "cell_type": "code",
      "metadata": {
        "id": "V3B9FOnzpeKy"
      },
      "source": [
        "SELECT P.Id, P.Age, U.Drug_code, U.Days_use  \n",
        "    FROM Pessoa P JOIN  Uso U  \n",
        "      ON P.Id = U.Person_id ;"
      ],
      "execution_count": null,
      "outputs": []
    },
    {
      "cell_type": "markdown",
      "metadata": {
        "id": "udSAYgKbpeKy"
      },
      "source": [
        "d) Liste código das Pessoas, idade, nome dos medicamentos que usaram e quantos dias de uso"
      ]
    },
    {
      "cell_type": "code",
      "metadata": {
        "id": "-wBN1VffpeKy"
      },
      "source": [
        "SELECT P.Id, P.Age, U.Drug_code, U.Days_use  \n",
        "    FROM Pessoa P, Droga D JOIN  Uso U  \n",
        "      ON P.Id = U.Person_id and D.code = U.Drug_code ;"
      ],
      "execution_count": null,
      "outputs": []
    },
    {
      "cell_type": "markdown",
      "metadata": {
        "id": "QZMBmeKJpeKy"
      },
      "source": [
        "e) Liste nome dos medicamentos que foram usados por pessoas (sem repetições)"
      ]
    },
    {
      "cell_type": "code",
      "metadata": {
        "id": "zvu-ppPLpeKy"
      },
      "source": [
        "SELECT DISTINCT D.name \n",
        "    FROM  Droga D  JOIN  Uso U  \n",
        "      ON  D.code = U.Drug_code ;"
      ],
      "execution_count": null,
      "outputs": []
    },
    {
      "cell_type": "markdown",
      "metadata": {
        "id": "s0H4zJbPpeKz"
      },
      "source": [
        "f) Liste nome dos medicamentos usados por mais de 2.000 dias (sem repetições)"
      ]
    },
    {
      "cell_type": "code",
      "metadata": {
        "id": "ZZi_z2R3peKz"
      },
      "source": [
        "SELECT DISTINCT D.name \n",
        "    FROM  Droga D  JOIN  Uso U  \n",
        "      ON  D.code = U.Drug_code and U.days_use > 2000;"
      ],
      "execution_count": null,
      "outputs": []
    }
  ]
}